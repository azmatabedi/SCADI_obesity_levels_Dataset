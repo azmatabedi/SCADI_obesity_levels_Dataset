{
  "nbformat": 4,
  "nbformat_minor": 0,
  "metadata": {
    "colab": {
      "name": "Machine_learning.ipynb",
      "provenance": [],
      "collapsed_sections": []
    },
    "kernelspec": {
      "name": "python3",
      "display_name": "Python 3"
    },
    "language_info": {
      "name": "python"
    },
    "accelerator": "GPU"
  },
  "cells": [
    {
      "cell_type": "code",
      "metadata": {
        "id": "aMEyK0d1Kh_U"
      },
      "source": [
        "import pandas as pd\n",
        "from sklearn.cluster import KMeans\n",
        "import matplotlib.pyplot as plt\n",
        "from sklearn.decomposition import PCA\n",
        "from  sklearn.preprocessing import StandardScaler\n",
        "import numpy as np\n",
        "from sklearn.linear_model import LinearRegression\n",
        "from sklearn.model_selection import train_test_split\n",
        "from sklearn.metrics import accuracy_score\n",
        "from sklearn.tree import DecisionTreeClassifier"
      ],
      "execution_count": null,
      "outputs": []
    },
    {
      "cell_type": "markdown",
      "metadata": {
        "id": "pbArf-KfONrO"
      },
      "source": [
        "1 Determine the number of subgroups from the dataset using attributes 3 to 205 i.e., exclude attributes 1, \n",
        "2 and 206. Is this number same as number of classes presented by attribute 206? Explain and justify \n",
        "your findings. "
      ]
    },
    {
      "cell_type": "code",
      "metadata": {
        "id": "9sUOBtTyOKnW"
      },
      "source": [
        "df=pd.read_csv('/content/SCADI.csv')\n"
      ],
      "execution_count": null,
      "outputs": []
    },
    {
      "cell_type": "code",
      "metadata": {
        "colab": {
          "base_uri": "https://localhost:8080/"
        },
        "id": "n5jeSg_mQJCQ",
        "outputId": "3a092816-fa25-445c-a5aa-2773a11c0bfe"
      },
      "source": [
        "print(df)"
      ],
      "execution_count": null,
      "outputs": [
        {
          "output_type": "stream",
          "text": [
            "    Gender  Age  d 5100-0  d 5100-1  ...  d 571-4  d 571-8  d 571-9  Classes\n",
            "0        0   18         0         0  ...        1        0        0   class6\n",
            "1        0   22         0         0  ...        0        0        0   class6\n",
            "2        0   18         0         0  ...        0        0        0   class6\n",
            "3        1   18         0         0  ...        0        0        0   class6\n",
            "4        0   19         0         0  ...        0        0        0   class6\n",
            "..     ...  ...       ...       ...  ...      ...      ...      ...      ...\n",
            "65       1   15         0         0  ...        0        0        0   class4\n",
            "66       0    9         0         0  ...        0        0        0   class3\n",
            "67       1    8         0         0  ...        0        0        0   class6\n",
            "68       1    8         0         0  ...        0        0        0   class6\n",
            "69       1   14         0         0  ...        0        0        0   class6\n",
            "\n",
            "[70 rows x 206 columns]\n"
          ],
          "name": "stdout"
        }
      ]
    },
    {
      "cell_type": "code",
      "metadata": {
        "id": "nzqGRwjPSQ9M"
      },
      "source": [
        "sub_df=df.iloc[:,3:205]\n"
      ],
      "execution_count": null,
      "outputs": []
    },
    {
      "cell_type": "code",
      "metadata": {
        "id": "uO8dGBAnTEyz"
      },
      "source": [
        "wcss =[]\n",
        "for i in range(1,10):\n",
        "  kmeans=KMeans(n_clusters=i,init='k-means++',random_state=42)\n",
        "  kmeans.fit(sub_df)\n",
        "  wcss.append(kmeans.inertia_)"
      ],
      "execution_count": null,
      "outputs": []
    },
    {
      "cell_type": "code",
      "metadata": {
        "colab": {
          "base_uri": "https://localhost:8080/",
          "height": 279
        },
        "id": "uq0odFXaUWfD",
        "outputId": "410c677e-62d0-4d2d-c8a2-ca2928e40ccb"
      },
      "source": [
        "plt.plot(range(1,10), wcss)\n",
        "plt.xlabel('Number of clusters')\n",
        "plt.ylabel('WCSS') \n",
        "plt.show()"
      ],
      "execution_count": null,
      "outputs": [
        {
          "output_type": "display_data",
          "data": {
            "image/png": "[encoded data removed]",
            "text/plain": [
              "<Figure size 432x288 with 1 Axes>"
            ]
          },
          "metadata": {
            "needs_background": "light"
          }
        }
      ]
    },
    {
      "cell_type": "markdown",
      "metadata": {
        "id": "F1gtm2byWJYZ"
      },
      "source": [
        "1\n",
        "-with the help of Kmean algorithm I draw the elbow curve and found that 3 cluster in the dataset"
      ]
    },
    {
      "cell_type": "code",
      "metadata": {
        "id": "1BtlXfV4XhZy",
        "colab": {
          "base_uri": "https://localhost:8080/"
        },
        "outputId": "1388ecea-5cf4-4137-e96e-9bee131be885"
      },
      "source": [
        " df.columns"
      ],
      "execution_count": null,
      "outputs": [
        {
          "output_type": "execute_result",
          "data": {
            "text/plain": [
              "Index(['Gender', 'Age', 'd 5100-0', 'd 5100-1', 'd 5100-2', 'd 5100-3',\n",
              "       'd 5100-4', 'd 5100-8', 'd 5100-9', 'd 5101-0',\n",
              "       ...\n",
              "       'd 57022-8', 'd 57022-9', 'd 571-0', 'd 571-1', 'd 571-2', 'd 571-3',\n",
              "       'd 571-4', 'd 571-8', 'd 571-9', 'Classes'],\n",
              "      dtype='object', length=206)"
            ]
          },
          "metadata": {},
          "execution_count": 60
        }
      ]
    },
    {
      "cell_type": "markdown",
      "metadata": {
        "id": "Rir7Rtph4rlR"
      },
      "source": [
        "#2. Is this data facing curse of dimensionality? If so, then how to solve this problem. Explain with a two\u0002dimensional plot and report relevant loss of informatio"
      ]
    },
    {
      "cell_type": "code",
      "metadata": {
        "colab": {
          "base_uri": "https://localhost:8080/"
        },
        "id": "HCnEG3VE4oE0",
        "outputId": "f39b001e-fae4-4664-a06e-92ac357a766c"
      },
      "source": [
        "data_x=df.iloc[:,3:205]\n",
        "target=df.iloc[:,205:206]\n",
        "scale=StandardScaler()\n",
        "data=scale.fit_transform(data_x.values)\n",
        "data.shape"
      ],
      "execution_count": null,
      "outputs": [
        {
          "output_type": "execute_result",
          "data": {
            "text/plain": [
              "(70, 202)"
            ]
          },
          "metadata": {},
          "execution_count": 61
        }
      ]
    },
    {
      "cell_type": "code",
      "metadata": {
        "colab": {
          "base_uri": "https://localhost:8080/",
          "height": 282
        },
        "id": "_Hk8cUiY8i7S",
        "outputId": "0fcb1d2d-71df-4087-df6e-976c538b72f1"
      },
      "source": [
        "pca=PCA(n_components=35)\n",
        "X_pro=pca.fit_transform(data)\n",
        "plt.figure()\n",
        "plt.plot(np.cumsum(pca.explained_variance_ratio_))\n",
        "plt.xlabel('Number of Component')\n",
        "plt.ylabel('Variance(%)')\n",
        "plt.show()"
      ],
      "execution_count": null,
      "outputs": [
        {
          "output_type": "display_data",
          "data": {
            "image/png": "[encoded data removed]",
            "text/plain": [
              "<Figure size 432x288 with 1 Axes>"
            ]
          },
          "metadata": {
            "needs_background": "light"
          }
        }
      ]
    },
    {
      "cell_type": "markdown",
      "metadata": {
        "id": "cgBzRiuJIZN6"
      },
      "source": [
        "2\n",
        "our aim to find the components which explain the maximum varinace .because we want to retain as much information as possible using these composnets so higher variance higher will be the information containded,as the graph shows that when the number of componets reaches to 35 the variace becomes 1\n"
      ]
    },
    {
      "cell_type": "markdown",
      "metadata": {
        "id": "02YR7MZrJa67"
      },
      "source": [
        "#After applying principal component analysis (PCA) on a given dataset, it was found that the percentage of variance for the first N components is X%. How is this percentage of variance computed?\n"
      ]
    },
    {
      "cell_type": "code",
      "metadata": {
        "colab": {
          "base_uri": "https://localhost:8080/"
        },
        "id": "dZvwpng0JVAt",
        "outputId": "efa85c8b-910e-40bd-b328-43a028a381a8"
      },
      "source": [
        "PCA1=PCA(n_components=2)\n",
        "PCA1.fit(data)"
      ],
      "execution_count": null,
      "outputs": [
        {
          "output_type": "execute_result",
          "data": {
            "text/plain": [
              "PCA(copy=True, iterated_power='auto', n_components=2, random_state=None,\n",
              "    svd_solver='auto', tol=0.0, whiten=False)"
            ]
          },
          "metadata": {},
          "execution_count": 63
        }
      ]
    },
    {
      "cell_type": "code",
      "metadata": {
        "colab": {
          "base_uri": "https://localhost:8080/"
        },
        "id": "0hOpThewNJ8M",
        "outputId": "8e060cd1-952d-4844-bda3-2eb4049e9687"
      },
      "source": [
        "print(PCA1.explained_variance_)"
      ],
      "execution_count": null,
      "outputs": [
        {
          "output_type": "stream",
          "text": [
            "[26.72137161 19.55429634]\n"
          ],
          "name": "stdout"
        }
      ]
    },
    {
      "cell_type": "markdown",
      "metadata": {
        "id": "WtOAOQrIN5zE"
      },
      "source": [
        "#first principal component  has the 26.72%\n",
        "#second principal component has the 19.554"
      ]
    },
    {
      "cell_type": "markdown",
      "metadata": {
        "id": "qiSgdO6VrxQX"
      },
      "source": [
        "#Part4"
      ]
    },
    {
      "cell_type": "code",
      "metadata": {
        "id": "3s67r-Nvi3N7"
      },
      "source": [
        "df_1=pd.read_csv('/content/obesity_levels.csv')\n"
      ],
      "execution_count": null,
      "outputs": []
    },
    {
      "cell_type": "code",
      "metadata": {
        "colab": {
          "base_uri": "https://localhost:8080/"
        },
        "id": "BSsz7HshkRnL",
        "outputId": "1a278aa7-60fa-43d5-c149-0c8f25e13ead"
      },
      "source": [
        "print(df_1)"
      ],
      "execution_count": null,
      "outputs": [
        {
          "output_type": "stream",
          "text": [
            "      Gender        Age  ...                 MTRANS           NObeyesdad\n",
            "0     Female  21.000000  ...  Public_Transportation        Normal_Weight\n",
            "1     Female  21.000000  ...  Public_Transportation        Normal_Weight\n",
            "2       Male  23.000000  ...  Public_Transportation        Normal_Weight\n",
            "3       Male  27.000000  ...                Walking   Overweight_Level_I\n",
            "4       Male  22.000000  ...  Public_Transportation  Overweight_Level_II\n",
            "...      ...        ...  ...                    ...                  ...\n",
            "2106  Female  20.976842  ...  Public_Transportation     Obesity_Type_III\n",
            "2107  Female  21.982942  ...  Public_Transportation     Obesity_Type_III\n",
            "2108  Female  22.524036  ...  Public_Transportation     Obesity_Type_III\n",
            "2109  Female  24.361936  ...  Public_Transportation     Obesity_Type_III\n",
            "2110  Female  23.664709  ...  Public_Transportation     Obesity_Type_III\n",
            "\n",
            "[2111 rows x 17 columns]\n"
          ],
          "name": "stdout"
        }
      ]
    },
    {
      "cell_type": "code",
      "metadata": {
        "colab": {
          "base_uri": "https://localhost:8080/"
        },
        "id": "6GRBFMIokuOn",
        "outputId": "fc83d36f-de44-4071-ac3e-daf8364f1134"
      },
      "source": [
        "print(df_1.columns)"
      ],
      "execution_count": null,
      "outputs": [
        {
          "output_type": "stream",
          "text": [
            "Index(['Gender', 'Age', 'Height', 'Weight', 'family_history_with_overweight',\n",
            "       'FAVC', 'FCVC', 'NCP', 'CAEC', 'SMOKE', 'CH2O', 'SCC', 'FAF', 'TUE',\n",
            "       'CALC', 'MTRANS', 'NObeyesdad'],\n",
            "      dtype='object')\n"
          ],
          "name": "stdout"
        }
      ]
    },
    {
      "cell_type": "code",
      "metadata": {
        "colab": {
          "base_uri": "https://localhost:8080/",
          "height": 315
        },
        "id": "89Rx24mSk-HB",
        "outputId": "d0623d0e-ffd2-48b3-d9d3-9648d5434778"
      },
      "source": [
        "df_1.corr()"
      ],
      "execution_count": null,
      "outputs": [
        {
          "output_type": "execute_result",
          "data": {
            "text/html": [
              "<div>\n",
              "<style scoped>\n",
              "    .dataframe tbody tr th:only-of-type {\n",
              "        vertical-align: middle;\n",
              "    }\n",
              "\n",
              "    .dataframe tbody tr th {\n",
              "        vertical-align: top;\n",
              "    }\n",
              "\n",
              "    .dataframe thead th {\n",
              "        text-align: right;\n",
              "    }\n",
              "</style>\n",
              "<table border=\"1\" class=\"dataframe\">\n",
              "  <thead>\n",
              "    <tr style=\"text-align: right;\">\n",
              "      <th></th>\n",
              "      <th>Age</th>\n",
              "      <th>Height</th>\n",
              "      <th>Weight</th>\n",
              "      <th>FCVC</th>\n",
              "      <th>NCP</th>\n",
              "      <th>CH2O</th>\n",
              "      <th>FAF</th>\n",
              "      <th>TUE</th>\n",
              "    </tr>\n",
              "  </thead>\n",
              "  <tbody>\n",
              "    <tr>\n",
              "      <th>Age</th>\n",
              "      <td>1.000000</td>\n",
              "      <td>-0.025958</td>\n",
              "      <td>0.202560</td>\n",
              "      <td>0.016291</td>\n",
              "      <td>-0.043944</td>\n",
              "      <td>-0.045304</td>\n",
              "      <td>-0.144938</td>\n",
              "      <td>-0.296931</td>\n",
              "    </tr>\n",
              "    <tr>\n",
              "      <th>Height</th>\n",
              "      <td>-0.025958</td>\n",
              "      <td>1.000000</td>\n",
              "      <td>0.463136</td>\n",
              "      <td>-0.038121</td>\n",
              "      <td>0.243672</td>\n",
              "      <td>0.213376</td>\n",
              "      <td>0.294709</td>\n",
              "      <td>0.051912</td>\n",
              "    </tr>\n",
              "    <tr>\n",
              "      <th>Weight</th>\n",
              "      <td>0.202560</td>\n",
              "      <td>0.463136</td>\n",
              "      <td>1.000000</td>\n",
              "      <td>0.216125</td>\n",
              "      <td>0.107469</td>\n",
              "      <td>0.200575</td>\n",
              "      <td>-0.051436</td>\n",
              "      <td>-0.071561</td>\n",
              "    </tr>\n",
              "    <tr>\n",
              "      <th>FCVC</th>\n",
              "      <td>0.016291</td>\n",
              "      <td>-0.038121</td>\n",
              "      <td>0.216125</td>\n",
              "      <td>1.000000</td>\n",
              "      <td>0.042216</td>\n",
              "      <td>0.068461</td>\n",
              "      <td>0.019939</td>\n",
              "      <td>-0.101135</td>\n",
              "    </tr>\n",
              "    <tr>\n",
              "      <th>NCP</th>\n",
              "      <td>-0.043944</td>\n",
              "      <td>0.243672</td>\n",
              "      <td>0.107469</td>\n",
              "      <td>0.042216</td>\n",
              "      <td>1.000000</td>\n",
              "      <td>0.057088</td>\n",
              "      <td>0.129504</td>\n",
              "      <td>0.036326</td>\n",
              "    </tr>\n",
              "    <tr>\n",
              "      <th>CH2O</th>\n",
              "      <td>-0.045304</td>\n",
              "      <td>0.213376</td>\n",
              "      <td>0.200575</td>\n",
              "      <td>0.068461</td>\n",
              "      <td>0.057088</td>\n",
              "      <td>1.000000</td>\n",
              "      <td>0.167236</td>\n",
              "      <td>0.011965</td>\n",
              "    </tr>\n",
              "    <tr>\n",
              "      <th>FAF</th>\n",
              "      <td>-0.144938</td>\n",
              "      <td>0.294709</td>\n",
              "      <td>-0.051436</td>\n",
              "      <td>0.019939</td>\n",
              "      <td>0.129504</td>\n",
              "      <td>0.167236</td>\n",
              "      <td>1.000000</td>\n",
              "      <td>0.058562</td>\n",
              "    </tr>\n",
              "    <tr>\n",
              "      <th>TUE</th>\n",
              "      <td>-0.296931</td>\n",
              "      <td>0.051912</td>\n",
              "      <td>-0.071561</td>\n",
              "      <td>-0.101135</td>\n",
              "      <td>0.036326</td>\n",
              "      <td>0.011965</td>\n",
              "      <td>0.058562</td>\n",
              "      <td>1.000000</td>\n",
              "    </tr>\n",
              "  </tbody>\n",
              "</table>\n",
              "</div>"
            ],
            "text/plain": [
              "             Age    Height    Weight  ...      CH2O       FAF       TUE\n",
              "Age     1.000000 -0.025958  0.202560  ... -0.045304 -0.144938 -0.296931\n",
              "Height -0.025958  1.000000  0.463136  ...  0.213376  0.294709  0.051912\n",
              "Weight  0.202560  0.463136  1.000000  ...  0.200575 -0.051436 -0.071561\n",
              "FCVC    0.016291 -0.038121  0.216125  ...  0.068461  0.019939 -0.101135\n",
              "NCP    -0.043944  0.243672  0.107469  ...  0.057088  0.129504  0.036326\n",
              "CH2O   -0.045304  0.213376  0.200575  ...  1.000000  0.167236  0.011965\n",
              "FAF    -0.144938  0.294709 -0.051436  ...  0.167236  1.000000  0.058562\n",
              "TUE    -0.296931  0.051912 -0.071561  ...  0.011965  0.058562  1.000000\n",
              "\n",
              "[8 rows x 8 columns]"
            ]
          },
          "metadata": {},
          "execution_count": 68
        }
      ]
    },
    {
      "cell_type": "code",
      "metadata": {
        "colab": {
          "base_uri": "https://localhost:8080/"
        },
        "id": "wTxrfz7wlp0P",
        "outputId": "9bc619ab-c03e-4c85-c051-3fbb159d2753"
      },
      "source": [
        "df_1.info()"
      ],
      "execution_count": null,
      "outputs": [
        {
          "output_type": "stream",
          "text": [
            "<class 'pandas.core.frame.DataFrame'>\n",
            "RangeIndex: 2111 entries, 0 to 2110\n",
            "Data columns (total 17 columns):\n",
            " #   Column                          Non-Null Count  Dtype  \n",
            "---  ------                          --------------  -----  \n",
            " 0   Gender                          2111 non-null   object \n",
            " 1   Age                             2111 non-null   float64\n",
            " 2   Height                          2111 non-null   float64\n",
            " 3   Weight                          2111 non-null   float64\n",
            " 4   family_history_with_overweight  2111 non-null   object \n",
            " 5   FAVC                            2111 non-null   object \n",
            " 6   FCVC                            2111 non-null   float64\n",
            " 7   NCP                             2111 non-null   float64\n",
            " 8   CAEC                            2111 non-null   object \n",
            " 9   SMOKE                           2111 non-null   object \n",
            " 10  CH2O                            2111 non-null   float64\n",
            " 11  SCC                             2111 non-null   object \n",
            " 12  FAF                             2111 non-null   float64\n",
            " 13  TUE                             2111 non-null   float64\n",
            " 14  CALC                            2111 non-null   object \n",
            " 15  MTRANS                          2111 non-null   object \n",
            " 16  NObeyesdad                      2111 non-null   object \n",
            "dtypes: float64(8), object(9)\n",
            "memory usage: 280.5+ KB\n"
          ],
          "name": "stdout"
        }
      ]
    },
    {
      "cell_type": "code",
      "metadata": {
        "id": "2O755xBz88XO"
      },
      "source": [
        "from sklearn.preprocessing import LabelEncoder"
      ],
      "execution_count": null,
      "outputs": []
    },
    {
      "cell_type": "code",
      "metadata": {
        "colab": {
          "base_uri": "https://localhost:8080/"
        },
        "id": "4CeBmh8FAPlr",
        "outputId": "69c50b02-77f2-496e-8acf-3ca933bc1352"
      },
      "source": [
        "df_2=df_1.iloc[:,0:16]\n",
        "object_data=df_2[['Gender','family_history_with_overweight','FAVC','CAEC','SMOKE','SCC','CALC','MTRANS']]\n",
        "le=LabelEncoder()\n",
        "df_encoded=object_data.apply(le.fit_transform)\n",
        "\n",
        "df2=df_2.drop(['Gender','family_history_with_overweight','FAVC','CAEC','SMOKE','SCC','CALC','MTRANS'],axis=1)\n",
        "df_final=pd.concat([df_encoded,df2],axis=1)\n",
        "print(df_final.info())\n"
      ],
      "execution_count": null,
      "outputs": [
        {
          "output_type": "stream",
          "text": [
            "<class 'pandas.core.frame.DataFrame'>\n",
            "RangeIndex: 2111 entries, 0 to 2110\n",
            "Data columns (total 16 columns):\n",
            " #   Column                          Non-Null Count  Dtype  \n",
            "---  ------                          --------------  -----  \n",
            " 0   Gender                          2111 non-null   int64  \n",
            " 1   family_history_with_overweight  2111 non-null   int64  \n",
            " 2   FAVC                            2111 non-null   int64  \n",
            " 3   CAEC                            2111 non-null   int64  \n",
            " 4   SMOKE                           2111 non-null   int64  \n",
            " 5   SCC                             2111 non-null   int64  \n",
            " 6   CALC                            2111 non-null   int64  \n",
            " 7   MTRANS                          2111 non-null   int64  \n",
            " 8   Age                             2111 non-null   float64\n",
            " 9   Height                          2111 non-null   float64\n",
            " 10  Weight                          2111 non-null   float64\n",
            " 11  FCVC                            2111 non-null   float64\n",
            " 12  NCP                             2111 non-null   float64\n",
            " 13  CH2O                            2111 non-null   float64\n",
            " 14  FAF                             2111 non-null   float64\n",
            " 15  TUE                             2111 non-null   float64\n",
            "dtypes: float64(8), int64(8)\n",
            "memory usage: 264.0 KB\n",
            "None\n"
          ],
          "name": "stdout"
        }
      ]
    },
    {
      "cell_type": "code",
      "metadata": {
        "id": "kH0m07VYDUbo"
      },
      "source": [
        ""
      ],
      "execution_count": null,
      "outputs": []
    },
    {
      "cell_type": "code",
      "metadata": {
        "id": "v0ToXfP8qT1q"
      },
      "source": [
        "LR=LinearRegression()\n",
        "DT=DecisionTreeClassifier()"
      ],
      "execution_count": null,
      "outputs": []
    },
    {
      "cell_type": "code",
      "metadata": {
        "id": "Iu6jo89mrD-c",
        "colab": {
          "base_uri": "https://localhost:8080/"
        },
        "outputId": "470a88f2-91ef-4b30-e81e-331ce786d3fb"
      },
      "source": [
        "X=df_final.drop('Weight',axis=1)\n",
        "Y=df_final['Weight']\n",
        "print(Y)\n"
      ],
      "execution_count": null,
      "outputs": [
        {
          "output_type": "stream",
          "text": [
            "0        64.000000\n",
            "1        56.000000\n",
            "2        77.000000\n",
            "3        87.000000\n",
            "4        89.800000\n",
            "           ...    \n",
            "2106    131.408528\n",
            "2107    133.742943\n",
            "2108    133.689352\n",
            "2109    133.346641\n",
            "2110    133.472641\n",
            "Name: Weight, Length: 2111, dtype: float64\n"
          ],
          "name": "stdout"
        }
      ]
    },
    {
      "cell_type": "code",
      "metadata": {
        "colab": {
          "base_uri": "https://localhost:8080/"
        },
        "id": "uz_qWcYvgJ4j",
        "outputId": "07e66c9c-d799-43aa-b957-a501d28dcca5"
      },
      "source": [
        "xtrain,xtest,ytrain,ytest=train_test_split(X,Y,test_size=.3)\n",
        "\n",
        "print(ytest)"
      ],
      "execution_count": null,
      "outputs": [
        {
          "output_type": "stream",
          "text": [
            "1622     99.605527\n",
            "774      77.929204\n",
            "374      70.000000\n",
            "2026    137.792990\n",
            "659      42.000000\n",
            "           ...    \n",
            "57       65.000000\n",
            "557      52.331172\n",
            "760      62.337721\n",
            "1674     99.709329\n",
            "1999    133.644711\n",
            "Name: Weight, Length: 634, dtype: float64\n"
          ],
          "name": "stdout"
        }
      ]
    },
    {
      "cell_type": "code",
      "metadata": {
        "id": "TPqtiIS0rlPS",
        "colab": {
          "base_uri": "https://localhost:8080/"
        },
        "outputId": "07db72ce-f3f9-4491-d727-d6cb9cb3c7e9"
      },
      "source": [
        "LR.fit(xtrain,ytrain)"
      ],
      "execution_count": null,
      "outputs": [
        {
          "output_type": "execute_result",
          "data": {
            "text/plain": [
              "LinearRegression(copy_X=True, fit_intercept=True, n_jobs=None, normalize=False)"
            ]
          },
          "metadata": {},
          "execution_count": 31
        }
      ]
    },
    {
      "cell_type": "code",
      "metadata": {
        "id": "AQHSfvqGg-kR"
      },
      "source": [
        "ypre=LR.predict(xtest)"
      ],
      "execution_count": null,
      "outputs": []
    },
    {
      "cell_type": "code",
      "metadata": {
        "colab": {
          "base_uri": "https://localhost:8080/"
        },
        "id": "3Pywb9FPhFVA",
        "outputId": "ea7094fd-b932-4bd0-95c6-da67d6420a35"
      },
      "source": [
        "print(LR.score(xtest,ytest))"
      ],
      "execution_count": null,
      "outputs": [
        {
          "output_type": "stream",
          "text": [
            "0.5726850264232363\n"
          ],
          "name": "stdout"
        }
      ]
    },
    {
      "cell_type": "code",
      "metadata": {
        "id": "3ugEyPtRk0Cy"
      },
      "source": [
        ""
      ],
      "execution_count": null,
      "outputs": []
    },
    {
      "cell_type": "markdown",
      "metadata": {
        "id": "nzYm3YmplC-T"
      },
      "source": [
        "a\n",
        "I have use the Linear Regression model for this this problem because it the target variable is continous it is not categorical\n",
        "\n",
        "b\n",
        "-the target variable should be continous\n",
        "-there should be correlation between the dependent and indepented varibale\n",
        "\n",
        "\n",
        "c\n",
        "-for the text varible I use the label encoder because model can not be train on the test data\n",
        "d  \n",
        "-yes I optimised the decision tree parameter,then it gives me more accuracy\n",
        "e\n",
        "-Get more training data.\n",
        "-Increase the size or number of parameters in the model.\n",
        "-Increase the complexity of the model.\n",
        "-Increasing the training time, until cost function is minimised.\n"
      ]
    },
    {
      "cell_type": "markdown",
      "metadata": {
        "id": "4y0yfdiqMc4O"
      },
      "source": [
        "# Part 5\n"
      ]
    },
    {
      "cell_type": "code",
      "metadata": {
        "colab": {
          "base_uri": "https://localhost:8080/",
          "height": 426
        },
        "id": "-J5UN34wL-jS",
        "outputId": "d2a84cd2-5033-4112-c92d-830fdbcec9cf"
      },
      "source": [
        "data = pd.read_csv('obesity_levels.csv')\n",
        "data"
      ],
      "execution_count": null,
      "outputs": [
        {
          "output_type": "execute_result",
          "data": {
            "text/html": [
              "<div>\n",
              "<style scoped>\n",
              "    .dataframe tbody tr th:only-of-type {\n",
              "        vertical-align: middle;\n",
              "    }\n",
              "\n",
              "    .dataframe tbody tr th {\n",
              "        vertical-align: top;\n",
              "    }\n",
              "\n",
              "    .dataframe thead th {\n",
              "        text-align: right;\n",
              "    }\n",
              "</style>\n",
              "<table border=\"1\" class=\"dataframe\">\n",
              "  <thead>\n",
              "    <tr style=\"text-align: right;\">\n",
              "      <th></th>\n",
              "      <th>Gender</th>\n",
              "      <th>Age</th>\n",
              "      <th>Height</th>\n",
              "      <th>Weight</th>\n",
              "      <th>family_history_with_overweight</th>\n",
              "      <th>FAVC</th>\n",
              "      <th>FCVC</th>\n",
              "      <th>NCP</th>\n",
              "      <th>CAEC</th>\n",
              "      <th>SMOKE</th>\n",
              "      <th>CH2O</th>\n",
              "      <th>SCC</th>\n",
              "      <th>FAF</th>\n",
              "      <th>TUE</th>\n",
              "      <th>CALC</th>\n",
              "      <th>MTRANS</th>\n",
              "      <th>NObeyesdad</th>\n",
              "    </tr>\n",
              "  </thead>\n",
              "  <tbody>\n",
              "    <tr>\n",
              "      <th>0</th>\n",
              "      <td>Female</td>\n",
              "      <td>21.000000</td>\n",
              "      <td>1.620000</td>\n",
              "      <td>64.000000</td>\n",
              "      <td>yes</td>\n",
              "      <td>no</td>\n",
              "      <td>2.0</td>\n",
              "      <td>3.0</td>\n",
              "      <td>Sometimes</td>\n",
              "      <td>no</td>\n",
              "      <td>2.000000</td>\n",
              "      <td>no</td>\n",
              "      <td>0.000000</td>\n",
              "      <td>1.000000</td>\n",
              "      <td>no</td>\n",
              "      <td>Public_Transportation</td>\n",
              "      <td>Normal_Weight</td>\n",
              "    </tr>\n",
              "    <tr>\n",
              "      <th>1</th>\n",
              "      <td>Female</td>\n",
              "      <td>21.000000</td>\n",
              "      <td>1.520000</td>\n",
              "      <td>56.000000</td>\n",
              "      <td>yes</td>\n",
              "      <td>no</td>\n",
              "      <td>3.0</td>\n",
              "      <td>3.0</td>\n",
              "      <td>Sometimes</td>\n",
              "      <td>yes</td>\n",
              "      <td>3.000000</td>\n",
              "      <td>yes</td>\n",
              "      <td>3.000000</td>\n",
              "      <td>0.000000</td>\n",
              "      <td>Sometimes</td>\n",
              "      <td>Public_Transportation</td>\n",
              "      <td>Normal_Weight</td>\n",
              "    </tr>\n",
              "    <tr>\n",
              "      <th>2</th>\n",
              "      <td>Male</td>\n",
              "      <td>23.000000</td>\n",
              "      <td>1.800000</td>\n",
              "      <td>77.000000</td>\n",
              "      <td>yes</td>\n",
              "      <td>no</td>\n",
              "      <td>2.0</td>\n",
              "      <td>3.0</td>\n",
              "      <td>Sometimes</td>\n",
              "      <td>no</td>\n",
              "      <td>2.000000</td>\n",
              "      <td>no</td>\n",
              "      <td>2.000000</td>\n",
              "      <td>1.000000</td>\n",
              "      <td>Frequently</td>\n",
              "      <td>Public_Transportation</td>\n",
              "      <td>Normal_Weight</td>\n",
              "    </tr>\n",
              "    <tr>\n",
              "      <th>3</th>\n",
              "      <td>Male</td>\n",
              "      <td>27.000000</td>\n",
              "      <td>1.800000</td>\n",
              "      <td>87.000000</td>\n",
              "      <td>no</td>\n",
              "      <td>no</td>\n",
              "      <td>3.0</td>\n",
              "      <td>3.0</td>\n",
              "      <td>Sometimes</td>\n",
              "      <td>no</td>\n",
              "      <td>2.000000</td>\n",
              "      <td>no</td>\n",
              "      <td>2.000000</td>\n",
              "      <td>0.000000</td>\n",
              "      <td>Frequently</td>\n",
              "      <td>Walking</td>\n",
              "      <td>Overweight_Level_I</td>\n",
              "    </tr>\n",
              "    <tr>\n",
              "      <th>4</th>\n",
              "      <td>Male</td>\n",
              "      <td>22.000000</td>\n",
              "      <td>1.780000</td>\n",
              "      <td>89.800000</td>\n",
              "      <td>no</td>\n",
              "      <td>no</td>\n",
              "      <td>2.0</td>\n",
              "      <td>1.0</td>\n",
              "      <td>Sometimes</td>\n",
              "      <td>no</td>\n",
              "      <td>2.000000</td>\n",
              "      <td>no</td>\n",
              "      <td>0.000000</td>\n",
              "      <td>0.000000</td>\n",
              "      <td>Sometimes</td>\n",
              "      <td>Public_Transportation</td>\n",
              "      <td>Overweight_Level_II</td>\n",
              "    </tr>\n",
              "    <tr>\n",
              "      <th>...</th>\n",
              "      <td>...</td>\n",
              "      <td>...</td>\n",
              "      <td>...</td>\n",
              "      <td>...</td>\n",
              "      <td>...</td>\n",
              "      <td>...</td>\n",
              "      <td>...</td>\n",
              "      <td>...</td>\n",
              "      <td>...</td>\n",
              "      <td>...</td>\n",
              "      <td>...</td>\n",
              "      <td>...</td>\n",
              "      <td>...</td>\n",
              "      <td>...</td>\n",
              "      <td>...</td>\n",
              "      <td>...</td>\n",
              "      <td>...</td>\n",
              "    </tr>\n",
              "    <tr>\n",
              "      <th>2106</th>\n",
              "      <td>Female</td>\n",
              "      <td>20.976842</td>\n",
              "      <td>1.710730</td>\n",
              "      <td>131.408528</td>\n",
              "      <td>yes</td>\n",
              "      <td>yes</td>\n",
              "      <td>3.0</td>\n",
              "      <td>3.0</td>\n",
              "      <td>Sometimes</td>\n",
              "      <td>no</td>\n",
              "      <td>1.728139</td>\n",
              "      <td>no</td>\n",
              "      <td>1.676269</td>\n",
              "      <td>0.906247</td>\n",
              "      <td>Sometimes</td>\n",
              "      <td>Public_Transportation</td>\n",
              "      <td>Obesity_Type_III</td>\n",
              "    </tr>\n",
              "    <tr>\n",
              "      <th>2107</th>\n",
              "      <td>Female</td>\n",
              "      <td>21.982942</td>\n",
              "      <td>1.748584</td>\n",
              "      <td>133.742943</td>\n",
              "      <td>yes</td>\n",
              "      <td>yes</td>\n",
              "      <td>3.0</td>\n",
              "      <td>3.0</td>\n",
              "      <td>Sometimes</td>\n",
              "      <td>no</td>\n",
              "      <td>2.005130</td>\n",
              "      <td>no</td>\n",
              "      <td>1.341390</td>\n",
              "      <td>0.599270</td>\n",
              "      <td>Sometimes</td>\n",
              "      <td>Public_Transportation</td>\n",
              "      <td>Obesity_Type_III</td>\n",
              "    </tr>\n",
              "    <tr>\n",
              "      <th>2108</th>\n",
              "      <td>Female</td>\n",
              "      <td>22.524036</td>\n",
              "      <td>1.752206</td>\n",
              "      <td>133.689352</td>\n",
              "      <td>yes</td>\n",
              "      <td>yes</td>\n",
              "      <td>3.0</td>\n",
              "      <td>3.0</td>\n",
              "      <td>Sometimes</td>\n",
              "      <td>no</td>\n",
              "      <td>2.054193</td>\n",
              "      <td>no</td>\n",
              "      <td>1.414209</td>\n",
              "      <td>0.646288</td>\n",
              "      <td>Sometimes</td>\n",
              "      <td>Public_Transportation</td>\n",
              "      <td>Obesity_Type_III</td>\n",
              "    </tr>\n",
              "    <tr>\n",
              "      <th>2109</th>\n",
              "      <td>Female</td>\n",
              "      <td>24.361936</td>\n",
              "      <td>1.739450</td>\n",
              "      <td>133.346641</td>\n",
              "      <td>yes</td>\n",
              "      <td>yes</td>\n",
              "      <td>3.0</td>\n",
              "      <td>3.0</td>\n",
              "      <td>Sometimes</td>\n",
              "      <td>no</td>\n",
              "      <td>2.852339</td>\n",
              "      <td>no</td>\n",
              "      <td>1.139107</td>\n",
              "      <td>0.586035</td>\n",
              "      <td>Sometimes</td>\n",
              "      <td>Public_Transportation</td>\n",
              "      <td>Obesity_Type_III</td>\n",
              "    </tr>\n",
              "    <tr>\n",
              "      <th>2110</th>\n",
              "      <td>Female</td>\n",
              "      <td>23.664709</td>\n",
              "      <td>1.738836</td>\n",
              "      <td>133.472641</td>\n",
              "      <td>yes</td>\n",
              "      <td>yes</td>\n",
              "      <td>3.0</td>\n",
              "      <td>3.0</td>\n",
              "      <td>Sometimes</td>\n",
              "      <td>no</td>\n",
              "      <td>2.863513</td>\n",
              "      <td>no</td>\n",
              "      <td>1.026452</td>\n",
              "      <td>0.714137</td>\n",
              "      <td>Sometimes</td>\n",
              "      <td>Public_Transportation</td>\n",
              "      <td>Obesity_Type_III</td>\n",
              "    </tr>\n",
              "  </tbody>\n",
              "</table>\n",
              "<p>2111 rows × 17 columns</p>\n",
              "</div>"
            ],
            "text/plain": [
              "      Gender        Age  ...                 MTRANS           NObeyesdad\n",
              "0     Female  21.000000  ...  Public_Transportation        Normal_Weight\n",
              "1     Female  21.000000  ...  Public_Transportation        Normal_Weight\n",
              "2       Male  23.000000  ...  Public_Transportation        Normal_Weight\n",
              "3       Male  27.000000  ...                Walking   Overweight_Level_I\n",
              "4       Male  22.000000  ...  Public_Transportation  Overweight_Level_II\n",
              "...      ...        ...  ...                    ...                  ...\n",
              "2106  Female  20.976842  ...  Public_Transportation     Obesity_Type_III\n",
              "2107  Female  21.982942  ...  Public_Transportation     Obesity_Type_III\n",
              "2108  Female  22.524036  ...  Public_Transportation     Obesity_Type_III\n",
              "2109  Female  24.361936  ...  Public_Transportation     Obesity_Type_III\n",
              "2110  Female  23.664709  ...  Public_Transportation     Obesity_Type_III\n",
              "\n",
              "[2111 rows x 17 columns]"
            ]
          },
          "metadata": {},
          "execution_count": 7
        }
      ]
    },
    {
      "cell_type": "markdown",
      "metadata": {
        "id": "OQ9Pf2f_Pgek"
      },
      "source": [
        "**Dropping Samples**"
      ]
    },
    {
      "cell_type": "code",
      "metadata": {
        "colab": {
          "base_uri": "https://localhost:8080/",
          "height": 426
        },
        "id": "7wooY6v5MlRG",
        "outputId": "3c6b9c54-509a-4f46-a125-478630244104"
      },
      "source": [
        "todrop = data[ data['NObeyesdad'] == 'Insufficient_Weight' ].index\n",
        "data.drop(todrop,inplace=True)\n",
        "data"
      ],
      "execution_count": null,
      "outputs": [
        {
          "output_type": "execute_result",
          "data": {
            "text/html": [
              "<div>\n",
              "<style scoped>\n",
              "    .dataframe tbody tr th:only-of-type {\n",
              "        vertical-align: middle;\n",
              "    }\n",
              "\n",
              "    .dataframe tbody tr th {\n",
              "        vertical-align: top;\n",
              "    }\n",
              "\n",
              "    .dataframe thead th {\n",
              "        text-align: right;\n",
              "    }\n",
              "</style>\n",
              "<table border=\"1\" class=\"dataframe\">\n",
              "  <thead>\n",
              "    <tr style=\"text-align: right;\">\n",
              "      <th></th>\n",
              "      <th>Gender</th>\n",
              "      <th>Age</th>\n",
              "      <th>Height</th>\n",
              "      <th>Weight</th>\n",
              "      <th>family_history_with_overweight</th>\n",
              "      <th>FAVC</th>\n",
              "      <th>FCVC</th>\n",
              "      <th>NCP</th>\n",
              "      <th>CAEC</th>\n",
              "      <th>SMOKE</th>\n",
              "      <th>CH2O</th>\n",
              "      <th>SCC</th>\n",
              "      <th>FAF</th>\n",
              "      <th>TUE</th>\n",
              "      <th>CALC</th>\n",
              "      <th>MTRANS</th>\n",
              "      <th>NObeyesdad</th>\n",
              "    </tr>\n",
              "  </thead>\n",
              "  <tbody>\n",
              "    <tr>\n",
              "      <th>0</th>\n",
              "      <td>Female</td>\n",
              "      <td>21.000000</td>\n",
              "      <td>1.620000</td>\n",
              "      <td>64.000000</td>\n",
              "      <td>yes</td>\n",
              "      <td>no</td>\n",
              "      <td>2.0</td>\n",
              "      <td>3.0</td>\n",
              "      <td>Sometimes</td>\n",
              "      <td>no</td>\n",
              "      <td>2.000000</td>\n",
              "      <td>no</td>\n",
              "      <td>0.000000</td>\n",
              "      <td>1.000000</td>\n",
              "      <td>no</td>\n",
              "      <td>Public_Transportation</td>\n",
              "      <td>Normal_Weight</td>\n",
              "    </tr>\n",
              "    <tr>\n",
              "      <th>1</th>\n",
              "      <td>Female</td>\n",
              "      <td>21.000000</td>\n",
              "      <td>1.520000</td>\n",
              "      <td>56.000000</td>\n",
              "      <td>yes</td>\n",
              "      <td>no</td>\n",
              "      <td>3.0</td>\n",
              "      <td>3.0</td>\n",
              "      <td>Sometimes</td>\n",
              "      <td>yes</td>\n",
              "      <td>3.000000</td>\n",
              "      <td>yes</td>\n",
              "      <td>3.000000</td>\n",
              "      <td>0.000000</td>\n",
              "      <td>Sometimes</td>\n",
              "      <td>Public_Transportation</td>\n",
              "      <td>Normal_Weight</td>\n",
              "    </tr>\n",
              "    <tr>\n",
              "      <th>2</th>\n",
              "      <td>Male</td>\n",
              "      <td>23.000000</td>\n",
              "      <td>1.800000</td>\n",
              "      <td>77.000000</td>\n",
              "      <td>yes</td>\n",
              "      <td>no</td>\n",
              "      <td>2.0</td>\n",
              "      <td>3.0</td>\n",
              "      <td>Sometimes</td>\n",
              "      <td>no</td>\n",
              "      <td>2.000000</td>\n",
              "      <td>no</td>\n",
              "      <td>2.000000</td>\n",
              "      <td>1.000000</td>\n",
              "      <td>Frequently</td>\n",
              "      <td>Public_Transportation</td>\n",
              "      <td>Normal_Weight</td>\n",
              "    </tr>\n",
              "    <tr>\n",
              "      <th>3</th>\n",
              "      <td>Male</td>\n",
              "      <td>27.000000</td>\n",
              "      <td>1.800000</td>\n",
              "      <td>87.000000</td>\n",
              "      <td>no</td>\n",
              "      <td>no</td>\n",
              "      <td>3.0</td>\n",
              "      <td>3.0</td>\n",
              "      <td>Sometimes</td>\n",
              "      <td>no</td>\n",
              "      <td>2.000000</td>\n",
              "      <td>no</td>\n",
              "      <td>2.000000</td>\n",
              "      <td>0.000000</td>\n",
              "      <td>Frequently</td>\n",
              "      <td>Walking</td>\n",
              "      <td>Overweight_Level_I</td>\n",
              "    </tr>\n",
              "    <tr>\n",
              "      <th>4</th>\n",
              "      <td>Male</td>\n",
              "      <td>22.000000</td>\n",
              "      <td>1.780000</td>\n",
              "      <td>89.800000</td>\n",
              "      <td>no</td>\n",
              "      <td>no</td>\n",
              "      <td>2.0</td>\n",
              "      <td>1.0</td>\n",
              "      <td>Sometimes</td>\n",
              "      <td>no</td>\n",
              "      <td>2.000000</td>\n",
              "      <td>no</td>\n",
              "      <td>0.000000</td>\n",
              "      <td>0.000000</td>\n",
              "      <td>Sometimes</td>\n",
              "      <td>Public_Transportation</td>\n",
              "      <td>Overweight_Level_II</td>\n",
              "    </tr>\n",
              "    <tr>\n",
              "      <th>...</th>\n",
              "      <td>...</td>\n",
              "      <td>...</td>\n",
              "      <td>...</td>\n",
              "      <td>...</td>\n",
              "      <td>...</td>\n",
              "      <td>...</td>\n",
              "      <td>...</td>\n",
              "      <td>...</td>\n",
              "      <td>...</td>\n",
              "      <td>...</td>\n",
              "      <td>...</td>\n",
              "      <td>...</td>\n",
              "      <td>...</td>\n",
              "      <td>...</td>\n",
              "      <td>...</td>\n",
              "      <td>...</td>\n",
              "      <td>...</td>\n",
              "    </tr>\n",
              "    <tr>\n",
              "      <th>2106</th>\n",
              "      <td>Female</td>\n",
              "      <td>20.976842</td>\n",
              "      <td>1.710730</td>\n",
              "      <td>131.408528</td>\n",
              "      <td>yes</td>\n",
              "      <td>yes</td>\n",
              "      <td>3.0</td>\n",
              "      <td>3.0</td>\n",
              "      <td>Sometimes</td>\n",
              "      <td>no</td>\n",
              "      <td>1.728139</td>\n",
              "      <td>no</td>\n",
              "      <td>1.676269</td>\n",
              "      <td>0.906247</td>\n",
              "      <td>Sometimes</td>\n",
              "      <td>Public_Transportation</td>\n",
              "      <td>Obesity_Type_III</td>\n",
              "    </tr>\n",
              "    <tr>\n",
              "      <th>2107</th>\n",
              "      <td>Female</td>\n",
              "      <td>21.982942</td>\n",
              "      <td>1.748584</td>\n",
              "      <td>133.742943</td>\n",
              "      <td>yes</td>\n",
              "      <td>yes</td>\n",
              "      <td>3.0</td>\n",
              "      <td>3.0</td>\n",
              "      <td>Sometimes</td>\n",
              "      <td>no</td>\n",
              "      <td>2.005130</td>\n",
              "      <td>no</td>\n",
              "      <td>1.341390</td>\n",
              "      <td>0.599270</td>\n",
              "      <td>Sometimes</td>\n",
              "      <td>Public_Transportation</td>\n",
              "      <td>Obesity_Type_III</td>\n",
              "    </tr>\n",
              "    <tr>\n",
              "      <th>2108</th>\n",
              "      <td>Female</td>\n",
              "      <td>22.524036</td>\n",
              "      <td>1.752206</td>\n",
              "      <td>133.689352</td>\n",
              "      <td>yes</td>\n",
              "      <td>yes</td>\n",
              "      <td>3.0</td>\n",
              "      <td>3.0</td>\n",
              "      <td>Sometimes</td>\n",
              "      <td>no</td>\n",
              "      <td>2.054193</td>\n",
              "      <td>no</td>\n",
              "      <td>1.414209</td>\n",
              "      <td>0.646288</td>\n",
              "      <td>Sometimes</td>\n",
              "      <td>Public_Transportation</td>\n",
              "      <td>Obesity_Type_III</td>\n",
              "    </tr>\n",
              "    <tr>\n",
              "      <th>2109</th>\n",
              "      <td>Female</td>\n",
              "      <td>24.361936</td>\n",
              "      <td>1.739450</td>\n",
              "      <td>133.346641</td>\n",
              "      <td>yes</td>\n",
              "      <td>yes</td>\n",
              "      <td>3.0</td>\n",
              "      <td>3.0</td>\n",
              "      <td>Sometimes</td>\n",
              "      <td>no</td>\n",
              "      <td>2.852339</td>\n",
              "      <td>no</td>\n",
              "      <td>1.139107</td>\n",
              "      <td>0.586035</td>\n",
              "      <td>Sometimes</td>\n",
              "      <td>Public_Transportation</td>\n",
              "      <td>Obesity_Type_III</td>\n",
              "    </tr>\n",
              "    <tr>\n",
              "      <th>2110</th>\n",
              "      <td>Female</td>\n",
              "      <td>23.664709</td>\n",
              "      <td>1.738836</td>\n",
              "      <td>133.472641</td>\n",
              "      <td>yes</td>\n",
              "      <td>yes</td>\n",
              "      <td>3.0</td>\n",
              "      <td>3.0</td>\n",
              "      <td>Sometimes</td>\n",
              "      <td>no</td>\n",
              "      <td>2.863513</td>\n",
              "      <td>no</td>\n",
              "      <td>1.026452</td>\n",
              "      <td>0.714137</td>\n",
              "      <td>Sometimes</td>\n",
              "      <td>Public_Transportation</td>\n",
              "      <td>Obesity_Type_III</td>\n",
              "    </tr>\n",
              "  </tbody>\n",
              "</table>\n",
              "<p>1839 rows × 17 columns</p>\n",
              "</div>"
            ],
            "text/plain": [
              "      Gender        Age  ...                 MTRANS           NObeyesdad\n",
              "0     Female  21.000000  ...  Public_Transportation        Normal_Weight\n",
              "1     Female  21.000000  ...  Public_Transportation        Normal_Weight\n",
              "2       Male  23.000000  ...  Public_Transportation        Normal_Weight\n",
              "3       Male  27.000000  ...                Walking   Overweight_Level_I\n",
              "4       Male  22.000000  ...  Public_Transportation  Overweight_Level_II\n",
              "...      ...        ...  ...                    ...                  ...\n",
              "2106  Female  20.976842  ...  Public_Transportation     Obesity_Type_III\n",
              "2107  Female  21.982942  ...  Public_Transportation     Obesity_Type_III\n",
              "2108  Female  22.524036  ...  Public_Transportation     Obesity_Type_III\n",
              "2109  Female  24.361936  ...  Public_Transportation     Obesity_Type_III\n",
              "2110  Female  23.664709  ...  Public_Transportation     Obesity_Type_III\n",
              "\n",
              "[1839 rows x 17 columns]"
            ]
          },
          "metadata": {},
          "execution_count": 8
        }
      ]
    },
    {
      "cell_type": "code",
      "metadata": {
        "colab": {
          "base_uri": "https://localhost:8080/",
          "height": 495
        },
        "id": "iiWiASqAPsKT",
        "outputId": "c2eb94ac-eb71-45c8-d575-2577498a4c2b"
      },
      "source": [
        "data.NObeyesdad.unique()\n",
        "from sklearn.tree import DecisionTreeClassifier\n",
        "from sklearn.model_selection import train_test_split\n",
        "import copy\n",
        "from sklearn import preprocessing\n",
        "code = ['Gender','family_history_with_overweight','FAVC','CAEC','SMOKE','SCC','CALC','MTRANS']\n",
        "le = preprocessing.LabelEncoder()\n",
        "for i in range(0,len(code)):\n",
        "  data[code[i]] = le.fit_transform(data[code[i]])\n",
        "class1 = ['Normal_Weight', 'Overweight_Level_I', 'Overweight_Level_II']\n",
        "class2 = ['Obesity_Type_I', 'Obesity_Type_II', 'Obesity_Type_III']\n",
        "DT = DecisionTreeClassifier()\n",
        "X = data.iloc[:,:16]\n",
        "Y = data['NObeyesdad']\n",
        "X_train, X_test, y_train, y_test = train_test_split(X, Y, test_size=0.3, random_state=1)\n",
        "mod = DT.fit(X_train,y_train)\n",
        "predictions = mod.predict(X_test)\n",
        "pred = copy.deepcopy(predictions)\n",
        "for i in range(0,len(predictions)):\n",
        "  if predictions[i] in class1:\n",
        "    predictions[i] = 'class1'\n",
        "  else:\n",
        "    predictions[i] = 'class2'\n",
        "X_test['predictions'] = predictions\n",
        "X_test\n"
      ],
      "execution_count": null,
      "outputs": [
        {
          "output_type": "stream",
          "text": [
            "/usr/local/lib/python3.7/dist-packages/ipykernel_launcher.py:24: SettingWithCopyWarning: \n",
            "A value is trying to be set on a copy of a slice from a DataFrame.\n",
            "Try using .loc[row_indexer,col_indexer] = value instead\n",
            "\n",
            "See the caveats in the documentation: https://pandas.pydata.org/pandas-docs/stable/user_guide/indexing.html#returning-a-view-versus-a-copy\n"
          ],
          "name": "stderr"
        },
        {
          "output_type": "execute_result",
          "data": {
            "text/html": [
              "<div>\n",
              "<style scoped>\n",
              "    .dataframe tbody tr th:only-of-type {\n",
              "        vertical-align: middle;\n",
              "    }\n",
              "\n",
              "    .dataframe tbody tr th {\n",
              "        vertical-align: top;\n",
              "    }\n",
              "\n",
              "    .dataframe thead th {\n",
              "        text-align: right;\n",
              "    }\n",
              "</style>\n",
              "<table border=\"1\" class=\"dataframe\">\n",
              "  <thead>\n",
              "    <tr style=\"text-align: right;\">\n",
              "      <th></th>\n",
              "      <th>Gender</th>\n",
              "      <th>Age</th>\n",
              "      <th>Height</th>\n",
              "      <th>Weight</th>\n",
              "      <th>family_history_with_overweight</th>\n",
              "      <th>FAVC</th>\n",
              "      <th>FCVC</th>\n",
              "      <th>NCP</th>\n",
              "      <th>CAEC</th>\n",
              "      <th>SMOKE</th>\n",
              "      <th>CH2O</th>\n",
              "      <th>SCC</th>\n",
              "      <th>FAF</th>\n",
              "      <th>TUE</th>\n",
              "      <th>CALC</th>\n",
              "      <th>MTRANS</th>\n",
              "      <th>predictions</th>\n",
              "    </tr>\n",
              "  </thead>\n",
              "  <tbody>\n",
              "    <tr>\n",
              "      <th>927</th>\n",
              "      <td>1</td>\n",
              "      <td>19.971660</td>\n",
              "      <td>1.822573</td>\n",
              "      <td>85.084364</td>\n",
              "      <td>1</td>\n",
              "      <td>1</td>\n",
              "      <td>2.995599</td>\n",
              "      <td>3.095663</td>\n",
              "      <td>2</td>\n",
              "      <td>0</td>\n",
              "      <td>2.568157</td>\n",
              "      <td>0</td>\n",
              "      <td>2.724300</td>\n",
              "      <td>0.330457</td>\n",
              "      <td>2</td>\n",
              "      <td>3</td>\n",
              "      <td>class1</td>\n",
              "    </tr>\n",
              "    <tr>\n",
              "      <th>1512</th>\n",
              "      <td>1</td>\n",
              "      <td>19.850524</td>\n",
              "      <td>1.785062</td>\n",
              "      <td>104.187314</td>\n",
              "      <td>1</td>\n",
              "      <td>1</td>\n",
              "      <td>2.000000</td>\n",
              "      <td>3.000000</td>\n",
              "      <td>2</td>\n",
              "      <td>0</td>\n",
              "      <td>2.151570</td>\n",
              "      <td>0</td>\n",
              "      <td>1.605983</td>\n",
              "      <td>0.000000</td>\n",
              "      <td>3</td>\n",
              "      <td>3</td>\n",
              "      <td>class2</td>\n",
              "    </tr>\n",
              "    <tr>\n",
              "      <th>1046</th>\n",
              "      <td>1</td>\n",
              "      <td>23.320120</td>\n",
              "      <td>1.705813</td>\n",
              "      <td>82.011962</td>\n",
              "      <td>1</td>\n",
              "      <td>1</td>\n",
              "      <td>2.784471</td>\n",
              "      <td>2.122545</td>\n",
              "      <td>2</td>\n",
              "      <td>0</td>\n",
              "      <td>2.984153</td>\n",
              "      <td>0</td>\n",
              "      <td>2.164472</td>\n",
              "      <td>0.203978</td>\n",
              "      <td>2</td>\n",
              "      <td>3</td>\n",
              "      <td>class1</td>\n",
              "    </tr>\n",
              "    <tr>\n",
              "      <th>118</th>\n",
              "      <td>1</td>\n",
              "      <td>23.000000</td>\n",
              "      <td>1.620000</td>\n",
              "      <td>53.000000</td>\n",
              "      <td>1</td>\n",
              "      <td>1</td>\n",
              "      <td>2.000000</td>\n",
              "      <td>3.000000</td>\n",
              "      <td>2</td>\n",
              "      <td>0</td>\n",
              "      <td>2.000000</td>\n",
              "      <td>0</td>\n",
              "      <td>1.000000</td>\n",
              "      <td>1.000000</td>\n",
              "      <td>2</td>\n",
              "      <td>3</td>\n",
              "      <td>class1</td>\n",
              "    </tr>\n",
              "    <tr>\n",
              "      <th>900</th>\n",
              "      <td>0</td>\n",
              "      <td>21.000000</td>\n",
              "      <td>1.618148</td>\n",
              "      <td>68.981403</td>\n",
              "      <td>1</td>\n",
              "      <td>1</td>\n",
              "      <td>1.142468</td>\n",
              "      <td>3.000000</td>\n",
              "      <td>3</td>\n",
              "      <td>0</td>\n",
              "      <td>2.197732</td>\n",
              "      <td>0</td>\n",
              "      <td>0.827506</td>\n",
              "      <td>0.572877</td>\n",
              "      <td>2</td>\n",
              "      <td>3</td>\n",
              "      <td>class1</td>\n",
              "    </tr>\n",
              "    <tr>\n",
              "      <th>...</th>\n",
              "      <td>...</td>\n",
              "      <td>...</td>\n",
              "      <td>...</td>\n",
              "      <td>...</td>\n",
              "      <td>...</td>\n",
              "      <td>...</td>\n",
              "      <td>...</td>\n",
              "      <td>...</td>\n",
              "      <td>...</td>\n",
              "      <td>...</td>\n",
              "      <td>...</td>\n",
              "      <td>...</td>\n",
              "      <td>...</td>\n",
              "      <td>...</td>\n",
              "      <td>...</td>\n",
              "      <td>...</td>\n",
              "      <td>...</td>\n",
              "    </tr>\n",
              "    <tr>\n",
              "      <th>88</th>\n",
              "      <td>0</td>\n",
              "      <td>22.000000</td>\n",
              "      <td>1.650000</td>\n",
              "      <td>65.000000</td>\n",
              "      <td>1</td>\n",
              "      <td>1</td>\n",
              "      <td>2.000000</td>\n",
              "      <td>3.000000</td>\n",
              "      <td>1</td>\n",
              "      <td>0</td>\n",
              "      <td>2.000000</td>\n",
              "      <td>1</td>\n",
              "      <td>1.000000</td>\n",
              "      <td>0.000000</td>\n",
              "      <td>3</td>\n",
              "      <td>0</td>\n",
              "      <td>class1</td>\n",
              "    </tr>\n",
              "    <tr>\n",
              "      <th>1873</th>\n",
              "      <td>0</td>\n",
              "      <td>23.761970</td>\n",
              "      <td>1.691350</td>\n",
              "      <td>114.480696</td>\n",
              "      <td>1</td>\n",
              "      <td>1</td>\n",
              "      <td>3.000000</td>\n",
              "      <td>3.000000</td>\n",
              "      <td>2</td>\n",
              "      <td>0</td>\n",
              "      <td>2.509535</td>\n",
              "      <td>0</td>\n",
              "      <td>0.334264</td>\n",
              "      <td>0.668172</td>\n",
              "      <td>2</td>\n",
              "      <td>3</td>\n",
              "      <td>class2</td>\n",
              "    </tr>\n",
              "    <tr>\n",
              "      <th>1771</th>\n",
              "      <td>1</td>\n",
              "      <td>25.666680</td>\n",
              "      <td>1.798580</td>\n",
              "      <td>117.933290</td>\n",
              "      <td>1</td>\n",
              "      <td>1</td>\n",
              "      <td>2.037042</td>\n",
              "      <td>3.000000</td>\n",
              "      <td>2</td>\n",
              "      <td>0</td>\n",
              "      <td>2.436990</td>\n",
              "      <td>0</td>\n",
              "      <td>1.016254</td>\n",
              "      <td>0.020044</td>\n",
              "      <td>2</td>\n",
              "      <td>3</td>\n",
              "      <td>class2</td>\n",
              "    </tr>\n",
              "    <tr>\n",
              "      <th>1680</th>\n",
              "      <td>1</td>\n",
              "      <td>30.976932</td>\n",
              "      <td>1.755333</td>\n",
              "      <td>118.237782</td>\n",
              "      <td>1</td>\n",
              "      <td>1</td>\n",
              "      <td>2.938616</td>\n",
              "      <td>3.000000</td>\n",
              "      <td>2</td>\n",
              "      <td>0</td>\n",
              "      <td>2.060390</td>\n",
              "      <td>0</td>\n",
              "      <td>0.371508</td>\n",
              "      <td>1.333559</td>\n",
              "      <td>2</td>\n",
              "      <td>0</td>\n",
              "      <td>class2</td>\n",
              "    </tr>\n",
              "    <tr>\n",
              "      <th>1157</th>\n",
              "      <td>0</td>\n",
              "      <td>25.472995</td>\n",
              "      <td>1.688911</td>\n",
              "      <td>78.434492</td>\n",
              "      <td>1</td>\n",
              "      <td>1</td>\n",
              "      <td>2.182401</td>\n",
              "      <td>2.832018</td>\n",
              "      <td>2</td>\n",
              "      <td>0</td>\n",
              "      <td>2.456939</td>\n",
              "      <td>0</td>\n",
              "      <td>0.038809</td>\n",
              "      <td>0.524015</td>\n",
              "      <td>1</td>\n",
              "      <td>3</td>\n",
              "      <td>class1</td>\n",
              "    </tr>\n",
              "  </tbody>\n",
              "</table>\n",
              "<p>552 rows × 17 columns</p>\n",
              "</div>"
            ],
            "text/plain": [
              "      Gender        Age    Height  ...  CALC  MTRANS  predictions\n",
              "927        1  19.971660  1.822573  ...     2       3       class1\n",
              "1512       1  19.850524  1.785062  ...     3       3       class2\n",
              "1046       1  23.320120  1.705813  ...     2       3       class1\n",
              "118        1  23.000000  1.620000  ...     2       3       class1\n",
              "900        0  21.000000  1.618148  ...     2       3       class1\n",
              "...      ...        ...       ...  ...   ...     ...          ...\n",
              "88         0  22.000000  1.650000  ...     3       0       class1\n",
              "1873       0  23.761970  1.691350  ...     2       3       class2\n",
              "1771       1  25.666680  1.798580  ...     2       3       class2\n",
              "1680       1  30.976932  1.755333  ...     2       0       class2\n",
              "1157       0  25.472995  1.688911  ...     1       3       class1\n",
              "\n",
              "[552 rows x 17 columns]"
            ]
          },
          "metadata": {},
          "execution_count": 9
        }
      ]
    },
    {
      "cell_type": "markdown",
      "metadata": {
        "id": "1XpX2PAQ3SsW"
      },
      "source": [
        "***5a***"
      ]
    },
    {
      "cell_type": "code",
      "metadata": {
        "colab": {
          "base_uri": "https://localhost:8080/"
        },
        "id": "RKwYMbKUnofq",
        "outputId": "559bad44-6716-496b-d38b-90e7c569f632"
      },
      "source": [
        "from sklearn.metrics import accuracy_score\n",
        "from sklearn.metrics import classification_report\n",
        "from sklearn.metrics import confusion_matrix\n",
        "accuracy_score(y_test,pred)\n",
        "classification_report(y_test,pred)\n",
        "confusion_matrix(y_test,pred)\n",
        "\n",
        "# np.array(y_test)"
      ],
      "execution_count": null,
      "outputs": [
        {
          "output_type": "execute_result",
          "data": {
            "text/plain": [
              "array([[87,  0,  0,  0,  3,  0],\n",
              "       [ 0, 91,  5,  0,  0,  7],\n",
              "       [ 0,  0, 92,  0,  0,  0],\n",
              "       [ 0,  0,  0, 91,  0,  0],\n",
              "       [12,  0,  0,  0, 79,  2],\n",
              "       [ 0,  6,  1,  0,  2, 74]])"
            ]
          },
          "metadata": {},
          "execution_count": 10
        }
      ]
    },
    {
      "cell_type": "markdown",
      "metadata": {
        "id": "2PvGW5GAwnqV"
      },
      "source": [
        "Confusion matrix gives you a more complete picture of how your classifier is performing\n",
        "Also allows you to compute various classification metrics, and these metrics can guide your model selection"
      ]
    },
    {
      "cell_type": "markdown",
      "metadata": {
        "id": "K12yi5nV3YuC"
      },
      "source": [
        "***5b***"
      ]
    },
    {
      "cell_type": "markdown",
      "metadata": {
        "id": "qLwVJ-S63dpb"
      },
      "source": [
        " No step has been taken to check the generisability of the"
      ]
    },
    {
      "cell_type": "markdown",
      "metadata": {
        "id": "fBUayitm3kj3"
      },
      "source": [
        "***5c***"
      ]
    },
    {
      "cell_type": "markdown",
      "metadata": {
        "id": "vd2XGsb53pCF"
      },
      "source": [
        "Naive Bayes classifier can also be used as a model to predict the target variable however i have used decision tree classifier  because in decision tree classifier, the predictions are made on the basis of specific metrics i.e gini,entropy while in Naive Bayes predictions are made on the basis of probability calculations\n"
      ]
    },
    {
      "cell_type": "markdown",
      "metadata": {
        "id": "eubu63lHxiHd"
      },
      "source": [
        "# **Part 6**"
      ]
    },
    {
      "cell_type": "markdown",
      "metadata": {
        "id": "onqwKf0kxnA0"
      },
      "source": [
        "***6a***"
      ]
    },
    {
      "cell_type": "markdown",
      "metadata": {
        "id": "8UPtUt2IxwKQ"
      },
      "source": [
        "The list of features is:\n",
        "\n",
        "\n",
        "1.   country\n",
        "2.   season\n",
        "3.   location\n",
        "4.   bpy \n",
        "5.   visit(target variable)\n",
        "\n"
      ]
    },
    {
      "cell_type": "markdown",
      "metadata": {
        "id": "Ainhw0E41czW"
      },
      "source": [
        "***6b***"
      ]
    },
    {
      "cell_type": "code",
      "metadata": {
        "colab": {
          "base_uri": "https://localhost:8080/",
          "height": 406
        },
        "id": "yA45gEeC1nIs",
        "outputId": "63e1b91e-41ad-4074-f9f9-806d3070d0f2"
      },
      "source": [
        "import random\n",
        "col = ['country','season','location','bpy','visit']\n",
        "country = ['USA','Ireland','Brazil','Iceland','UK']\n",
        "location = ['urban','rural']\n",
        "season = ['winter','summer','autumn','spring']\n",
        "visit = ['yes','no']\n",
        "a,b,c,d,e = [],[],[],[],[]\n",
        "for i in range(0,500):\n",
        "  j = random.randint(0,len(country)-1)\n",
        "  a.append(country[j])\n",
        "  j = random.randint(0,len(season)-1)\n",
        "  b.append(season[j])\n",
        "  j = random.randint(0,len(location)-1)\n",
        "  c.append(location[j])\n",
        "  j = random.randint(0,500)\n",
        "  d.append(j)\n",
        "  j = random.randint(0,len(visit)-1)\n",
        "  e.append(visit[j])\n",
        "\n",
        "data1 = pd.DataFrame({'country':a,'season':b,'location':c,'bpy':d,'visit':e})\n",
        "data1.to_csv('createddataset.csv')\n",
        "data1"
      ],
      "execution_count": null,
      "outputs": [
        {
          "output_type": "execute_result",
          "data": {
            "text/html": [
              "<div>\n",
              "<style scoped>\n",
              "    .dataframe tbody tr th:only-of-type {\n",
              "        vertical-align: middle;\n",
              "    }\n",
              "\n",
              "    .dataframe tbody tr th {\n",
              "        vertical-align: top;\n",
              "    }\n",
              "\n",
              "    .dataframe thead th {\n",
              "        text-align: right;\n",
              "    }\n",
              "</style>\n",
              "<table border=\"1\" class=\"dataframe\">\n",
              "  <thead>\n",
              "    <tr style=\"text-align: right;\">\n",
              "      <th></th>\n",
              "      <th>country</th>\n",
              "      <th>season</th>\n",
              "      <th>location</th>\n",
              "      <th>bpy</th>\n",
              "      <th>visit</th>\n",
              "    </tr>\n",
              "  </thead>\n",
              "  <tbody>\n",
              "    <tr>\n",
              "      <th>0</th>\n",
              "      <td>Ireland</td>\n",
              "      <td>winter</td>\n",
              "      <td>urban</td>\n",
              "      <td>15</td>\n",
              "      <td>yes</td>\n",
              "    </tr>\n",
              "    <tr>\n",
              "      <th>1</th>\n",
              "      <td>Iceland</td>\n",
              "      <td>spring</td>\n",
              "      <td>urban</td>\n",
              "      <td>48</td>\n",
              "      <td>yes</td>\n",
              "    </tr>\n",
              "    <tr>\n",
              "      <th>2</th>\n",
              "      <td>USA</td>\n",
              "      <td>winter</td>\n",
              "      <td>rural</td>\n",
              "      <td>19</td>\n",
              "      <td>no</td>\n",
              "    </tr>\n",
              "    <tr>\n",
              "      <th>3</th>\n",
              "      <td>Iceland</td>\n",
              "      <td>summer</td>\n",
              "      <td>rural</td>\n",
              "      <td>308</td>\n",
              "      <td>no</td>\n",
              "    </tr>\n",
              "    <tr>\n",
              "      <th>4</th>\n",
              "      <td>UK</td>\n",
              "      <td>summer</td>\n",
              "      <td>urban</td>\n",
              "      <td>31</td>\n",
              "      <td>yes</td>\n",
              "    </tr>\n",
              "    <tr>\n",
              "      <th>...</th>\n",
              "      <td>...</td>\n",
              "      <td>...</td>\n",
              "      <td>...</td>\n",
              "      <td>...</td>\n",
              "      <td>...</td>\n",
              "    </tr>\n",
              "    <tr>\n",
              "      <th>495</th>\n",
              "      <td>USA</td>\n",
              "      <td>autumn</td>\n",
              "      <td>urban</td>\n",
              "      <td>444</td>\n",
              "      <td>no</td>\n",
              "    </tr>\n",
              "    <tr>\n",
              "      <th>496</th>\n",
              "      <td>Brazil</td>\n",
              "      <td>summer</td>\n",
              "      <td>urban</td>\n",
              "      <td>45</td>\n",
              "      <td>yes</td>\n",
              "    </tr>\n",
              "    <tr>\n",
              "      <th>497</th>\n",
              "      <td>Iceland</td>\n",
              "      <td>winter</td>\n",
              "      <td>rural</td>\n",
              "      <td>389</td>\n",
              "      <td>yes</td>\n",
              "    </tr>\n",
              "    <tr>\n",
              "      <th>498</th>\n",
              "      <td>Brazil</td>\n",
              "      <td>autumn</td>\n",
              "      <td>urban</td>\n",
              "      <td>264</td>\n",
              "      <td>no</td>\n",
              "    </tr>\n",
              "    <tr>\n",
              "      <th>499</th>\n",
              "      <td>Ireland</td>\n",
              "      <td>spring</td>\n",
              "      <td>rural</td>\n",
              "      <td>378</td>\n",
              "      <td>no</td>\n",
              "    </tr>\n",
              "  </tbody>\n",
              "</table>\n",
              "<p>500 rows × 5 columns</p>\n",
              "</div>"
            ],
            "text/plain": [
              "     country  season location  bpy visit\n",
              "0    Ireland  winter    urban   15   yes\n",
              "1    Iceland  spring    urban   48   yes\n",
              "2        USA  winter    rural   19    no\n",
              "3    Iceland  summer    rural  308    no\n",
              "4         UK  summer    urban   31   yes\n",
              "..       ...     ...      ...  ...   ...\n",
              "495      USA  autumn    urban  444    no\n",
              "496   Brazil  summer    urban   45   yes\n",
              "497  Iceland  winter    rural  389   yes\n",
              "498   Brazil  autumn    urban  264    no\n",
              "499  Ireland  spring    rural  378    no\n",
              "\n",
              "[500 rows x 5 columns]"
            ]
          },
          "metadata": {},
          "execution_count": 27
        }
      ]
    },
    {
      "cell_type": "markdown",
      "metadata": {
        "id": "Z-AL5RE27FOe"
      },
      "source": [
        "**dataset** **explaination**\n",
        "\n",
        "country contains the list of resorts located in different places\n",
        "season represents the time of the year in accordance with no. of bookings\n",
        "location shows whether the resort is within the city premises or not\n",
        "bpy - booking per year show the amount of bookings done for the resort each year\n",
        "visit lets you know the preference of the majority people to visit the particular resort"
      ]
    },
    {
      "cell_type": "markdown",
      "metadata": {
        "id": "cAsJtfsVHGvC"
      },
      "source": [
        "***6c***"
      ]
    },
    {
      "cell_type": "code",
      "metadata": {
        "colab": {
          "base_uri": "https://localhost:8080/"
        },
        "id": "r7Sj2RIsFD5J",
        "outputId": "ceb9bd70-df81-4063-86b6-30c1e844186b"
      },
      "source": [
        "code = ['country','season','location']\n",
        "le = preprocessing.LabelEncoder()\n",
        "for i in range(0,len(code)):\n",
        "  data1[code[i]] = le.fit_transform(data1[code[i]])\n",
        "X = data1.iloc[:,:4]\n",
        "Y = data1['visit']\n",
        "DT1 = DecisionTreeClassifier()\n",
        "X_train, X_test, y_train, y_test = train_test_split(X, Y, test_size=0.3, random_state=1)\n",
        "DT1 = DT1.fit(X_train,y_train)\n",
        "predict = DT1.predict(X_test)\n",
        "accuracy_score(y_test,predict)"
      ],
      "execution_count": null,
      "outputs": [
        {
          "output_type": "execute_result",
          "data": {
            "text/plain": [
              "0.4666666666666667"
            ]
          },
          "metadata": {},
          "execution_count": 26
        }
      ]
    },
    {
      "cell_type": "markdown",
      "metadata": {
        "id": "NgQLIXuKHJaJ"
      },
      "source": [
        "***6d***"
      ]
    },
    {
      "cell_type": "markdown",
      "metadata": {
        "id": "6lJe15ROHK7L"
      },
      "source": [
        "This problem needs ml model in order to take decision whether to visit the visit a particular resort under specific seasons, and based on the bookings per(trust of the people in it)"
      ]
    }
  ]
}